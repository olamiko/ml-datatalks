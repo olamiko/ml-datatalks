{
 "cells": [
  {
   "cell_type": "code",
   "execution_count": 1,
   "id": "82038ea9-7342-41d0-ad88-0bf3d3362e19",
   "metadata": {},
   "outputs": [],
   "source": [
    "import pandas as pd\n",
    "import numpy as np\n",
    "import matplotlib.pyplot as plt\n",
    "import seaborn as sns\n",
    "\n",
    "%matplotlib inline"
   ]
  },
  {
   "cell_type": "code",
   "execution_count": 2,
   "id": "2c44e478-1a56-410b-b1ac-15d1dea1fb9e",
   "metadata": {},
   "outputs": [],
   "source": [
    "df = pd.read_csv('car_fuel_efficiency.csv')"
   ]
  },
  {
   "cell_type": "code",
   "execution_count": 3,
   "id": "a678e5e0-5c11-4f9f-8f3b-8071163ccfb4",
   "metadata": {},
   "outputs": [
    {
     "data": {
      "text/html": [
       "<div>\n",
       "<style scoped>\n",
       "    .dataframe tbody tr th:only-of-type {\n",
       "        vertical-align: middle;\n",
       "    }\n",
       "\n",
       "    .dataframe tbody tr th {\n",
       "        vertical-align: top;\n",
       "    }\n",
       "\n",
       "    .dataframe thead th {\n",
       "        text-align: right;\n",
       "    }\n",
       "</style>\n",
       "<table border=\"1\" class=\"dataframe\">\n",
       "  <thead>\n",
       "    <tr style=\"text-align: right;\">\n",
       "      <th></th>\n",
       "      <th>engine_displacement</th>\n",
       "      <th>horsepower</th>\n",
       "      <th>vehicle_weight</th>\n",
       "      <th>model_year</th>\n",
       "      <th>fuel_efficiency_mpg</th>\n",
       "    </tr>\n",
       "  </thead>\n",
       "  <tbody>\n",
       "    <tr>\n",
       "      <th>0</th>\n",
       "      <td>170</td>\n",
       "      <td>159.0</td>\n",
       "      <td>3413.433759</td>\n",
       "      <td>2003</td>\n",
       "      <td>13.231729</td>\n",
       "    </tr>\n",
       "    <tr>\n",
       "      <th>1</th>\n",
       "      <td>130</td>\n",
       "      <td>97.0</td>\n",
       "      <td>3149.664934</td>\n",
       "      <td>2007</td>\n",
       "      <td>13.688217</td>\n",
       "    </tr>\n",
       "    <tr>\n",
       "      <th>2</th>\n",
       "      <td>170</td>\n",
       "      <td>78.0</td>\n",
       "      <td>3079.038997</td>\n",
       "      <td>2018</td>\n",
       "      <td>14.246341</td>\n",
       "    </tr>\n",
       "    <tr>\n",
       "      <th>3</th>\n",
       "      <td>220</td>\n",
       "      <td>NaN</td>\n",
       "      <td>2542.392402</td>\n",
       "      <td>2009</td>\n",
       "      <td>16.912736</td>\n",
       "    </tr>\n",
       "    <tr>\n",
       "      <th>4</th>\n",
       "      <td>210</td>\n",
       "      <td>140.0</td>\n",
       "      <td>3460.870990</td>\n",
       "      <td>2009</td>\n",
       "      <td>12.488369</td>\n",
       "    </tr>\n",
       "    <tr>\n",
       "      <th>...</th>\n",
       "      <td>...</td>\n",
       "      <td>...</td>\n",
       "      <td>...</td>\n",
       "      <td>...</td>\n",
       "      <td>...</td>\n",
       "    </tr>\n",
       "    <tr>\n",
       "      <th>9699</th>\n",
       "      <td>140</td>\n",
       "      <td>164.0</td>\n",
       "      <td>2981.107371</td>\n",
       "      <td>2013</td>\n",
       "      <td>15.101802</td>\n",
       "    </tr>\n",
       "    <tr>\n",
       "      <th>9700</th>\n",
       "      <td>180</td>\n",
       "      <td>154.0</td>\n",
       "      <td>2439.525729</td>\n",
       "      <td>2004</td>\n",
       "      <td>17.962326</td>\n",
       "    </tr>\n",
       "    <tr>\n",
       "      <th>9701</th>\n",
       "      <td>220</td>\n",
       "      <td>138.0</td>\n",
       "      <td>2583.471318</td>\n",
       "      <td>2008</td>\n",
       "      <td>17.186587</td>\n",
       "    </tr>\n",
       "    <tr>\n",
       "      <th>9702</th>\n",
       "      <td>230</td>\n",
       "      <td>177.0</td>\n",
       "      <td>2905.527390</td>\n",
       "      <td>2011</td>\n",
       "      <td>15.331551</td>\n",
       "    </tr>\n",
       "    <tr>\n",
       "      <th>9703</th>\n",
       "      <td>270</td>\n",
       "      <td>140.0</td>\n",
       "      <td>2908.043477</td>\n",
       "      <td>2005</td>\n",
       "      <td>14.884467</td>\n",
       "    </tr>\n",
       "  </tbody>\n",
       "</table>\n",
       "<p>9704 rows × 5 columns</p>\n",
       "</div>"
      ],
      "text/plain": [
       "      engine_displacement  horsepower  vehicle_weight  model_year  \\\n",
       "0                     170       159.0     3413.433759        2003   \n",
       "1                     130        97.0     3149.664934        2007   \n",
       "2                     170        78.0     3079.038997        2018   \n",
       "3                     220         NaN     2542.392402        2009   \n",
       "4                     210       140.0     3460.870990        2009   \n",
       "...                   ...         ...             ...         ...   \n",
       "9699                  140       164.0     2981.107371        2013   \n",
       "9700                  180       154.0     2439.525729        2004   \n",
       "9701                  220       138.0     2583.471318        2008   \n",
       "9702                  230       177.0     2905.527390        2011   \n",
       "9703                  270       140.0     2908.043477        2005   \n",
       "\n",
       "      fuel_efficiency_mpg  \n",
       "0               13.231729  \n",
       "1               13.688217  \n",
       "2               14.246341  \n",
       "3               16.912736  \n",
       "4               12.488369  \n",
       "...                   ...  \n",
       "9699            15.101802  \n",
       "9700            17.962326  \n",
       "9701            17.186587  \n",
       "9702            15.331551  \n",
       "9703            14.884467  \n",
       "\n",
       "[9704 rows x 5 columns]"
      ]
     },
     "execution_count": 3,
     "metadata": {},
     "output_type": "execute_result"
    }
   ],
   "source": [
    "base = ['engine_displacement', 'horsepower', 'vehicle_weight', 'model_year', 'fuel_efficiency_mpg']\n",
    "df_base = df[base]\n",
    "df_base"
   ]
  },
  {
   "cell_type": "code",
   "execution_count": 4,
   "id": "c39a85c1-b9d8-44dd-a16d-870aa4e214ac",
   "metadata": {},
   "outputs": [
    {
     "data": {
      "text/plain": [
       "<Axes: xlabel='fuel_efficiency_mpg', ylabel='Count'>"
      ]
     },
     "execution_count": 4,
     "metadata": {},
     "output_type": "execute_result"
    },
    {
     "data": {
      "image/png": "[encoded data removed]",
      "text/plain": [
       "<Figure size 640x480 with 1 Axes>"
      ]
     },
     "metadata": {},
     "output_type": "display_data"
    }
   ],
   "source": [
    "sns.histplot(df_base.fuel_efficiency_mpg)"
   ]
  },
  {
   "cell_type": "code",
   "execution_count": 5,
   "id": "d833895c-5606-41ad-a564-db2eb07030ec",
   "metadata": {},
   "outputs": [
    {
     "data": {
      "text/plain": [
       "<Axes: xlabel='fuel_efficiency_mpg', ylabel='Count'>"
      ]
     },
     "execution_count": 5,
     "metadata": {},
     "output_type": "execute_result"
    },
    {
     "data": {
      "image/png": "[encoded data removed]",
      "text/plain": [
       "<Figure size 640x480 with 1 Axes>"
      ]
     },
     "metadata": {},
     "output_type": "display_data"
    }
   ],
   "source": [
    "fuel_logs = np.log1p(df_base.fuel_efficiency_mpg)\n",
    "sns.histplot(fuel_logs)"
   ]
  },
  {
   "cell_type": "code",
   "execution_count": 6,
   "id": "034d2060-ab7e-4185-a79e-731a5e7f77b8",
   "metadata": {},
   "outputs": [
    {
     "data": {
      "text/plain": [
       "engine_displacement      0\n",
       "horsepower             708\n",
       "vehicle_weight           0\n",
       "model_year               0\n",
       "fuel_efficiency_mpg      0\n",
       "dtype: int64"
      ]
     },
     "execution_count": 6,
     "metadata": {},
     "output_type": "execute_result"
    }
   ],
   "source": [
    "#Q1\n",
    "\n",
    "df_base.isna().sum()"
   ]
  },
  {
   "cell_type": "code",
   "execution_count": 7,
   "id": "9e72a438-aca0-4d58-abd1-256578b42d01",
   "metadata": {},
   "outputs": [
    {
     "data": {
      "text/plain": [
       "np.float64(149.0)"
      ]
     },
     "execution_count": 7,
     "metadata": {},
     "output_type": "execute_result"
    }
   ],
   "source": [
    "#Q2 \n",
    "\n",
    "df_base.horsepower.median()"
   ]
  },
  {
   "cell_type": "code",
   "execution_count": 8,
   "id": "74d7da13-0c48-44d3-bb52-96541de05bc4",
   "metadata": {},
   "outputs": [
    {
     "data": {
      "text/plain": [
       "(5824, 1940, 1940)"
      ]
     },
     "execution_count": 8,
     "metadata": {},
     "output_type": "execute_result"
    }
   ],
   "source": [
    "n = len(df)\n",
    "\n",
    "n_test = int(n * 0.2)\n",
    "n_val = int(n * 0.2)\n",
    "n_train = n - (n_test + n_val)\n",
    "\n",
    "n_train, n_val, n_test"
   ]
  },
  {
   "cell_type": "code",
   "execution_count": 9,
   "id": "86c77c26-8971-4ba3-b5e1-9f0f5bce5ca8",
   "metadata": {},
   "outputs": [],
   "source": [
    "idx = np.arange(n)\n",
    "np.random.seed(42)\n",
    "np.random.shuffle(idx)"
   ]
  },
  {
   "cell_type": "code",
   "execution_count": 10,
   "id": "46c0e9b3-28f5-41e6-8cb7-e062fca39788",
   "metadata": {},
   "outputs": [
    {
     "data": {
      "text/html": [
       "<div>\n",
       "<style scoped>\n",
       "    .dataframe tbody tr th:only-of-type {\n",
       "        vertical-align: middle;\n",
       "    }\n",
       "\n",
       "    .dataframe tbody tr th {\n",
       "        vertical-align: top;\n",
       "    }\n",
       "\n",
       "    .dataframe thead th {\n",
       "        text-align: right;\n",
       "    }\n",
       "</style>\n",
       "<table border=\"1\" class=\"dataframe\">\n",
       "  <thead>\n",
       "    <tr style=\"text-align: right;\">\n",
       "      <th></th>\n",
       "      <th>engine_displacement</th>\n",
       "      <th>horsepower</th>\n",
       "      <th>vehicle_weight</th>\n",
       "      <th>model_year</th>\n",
       "      <th>fuel_efficiency_mpg</th>\n",
       "    </tr>\n",
       "  </thead>\n",
       "  <tbody>\n",
       "    <tr>\n",
       "      <th>483</th>\n",
       "      <td>220</td>\n",
       "      <td>144.0</td>\n",
       "      <td>2535.887591</td>\n",
       "      <td>2009</td>\n",
       "      <td>16.642943</td>\n",
       "    </tr>\n",
       "    <tr>\n",
       "      <th>7506</th>\n",
       "      <td>160</td>\n",
       "      <td>141.0</td>\n",
       "      <td>2741.170484</td>\n",
       "      <td>2019</td>\n",
       "      <td>16.298377</td>\n",
       "    </tr>\n",
       "    <tr>\n",
       "      <th>8795</th>\n",
       "      <td>230</td>\n",
       "      <td>155.0</td>\n",
       "      <td>2471.880237</td>\n",
       "      <td>2017</td>\n",
       "      <td>18.591822</td>\n",
       "    </tr>\n",
       "    <tr>\n",
       "      <th>1688</th>\n",
       "      <td>150</td>\n",
       "      <td>206.0</td>\n",
       "      <td>3748.164469</td>\n",
       "      <td>2015</td>\n",
       "      <td>11.818843</td>\n",
       "    </tr>\n",
       "    <tr>\n",
       "      <th>6217</th>\n",
       "      <td>300</td>\n",
       "      <td>111.0</td>\n",
       "      <td>2135.716359</td>\n",
       "      <td>2006</td>\n",
       "      <td>19.402209</td>\n",
       "    </tr>\n",
       "    <tr>\n",
       "      <th>4562</th>\n",
       "      <td>180</td>\n",
       "      <td>120.0</td>\n",
       "      <td>3551.398040</td>\n",
       "      <td>2013</td>\n",
       "      <td>12.145734</td>\n",
       "    </tr>\n",
       "    <tr>\n",
       "      <th>5885</th>\n",
       "      <td>210</td>\n",
       "      <td>118.0</td>\n",
       "      <td>3620.351977</td>\n",
       "      <td>2018</td>\n",
       "      <td>11.378399</td>\n",
       "    </tr>\n",
       "    <tr>\n",
       "      <th>3746</th>\n",
       "      <td>150</td>\n",
       "      <td>152.0</td>\n",
       "      <td>2524.407794</td>\n",
       "      <td>2012</td>\n",
       "      <td>16.667294</td>\n",
       "    </tr>\n",
       "    <tr>\n",
       "      <th>7109</th>\n",
       "      <td>160</td>\n",
       "      <td>151.0</td>\n",
       "      <td>2752.964230</td>\n",
       "      <td>2009</td>\n",
       "      <td>15.819367</td>\n",
       "    </tr>\n",
       "    <tr>\n",
       "      <th>2698</th>\n",
       "      <td>250</td>\n",
       "      <td>147.0</td>\n",
       "      <td>3202.856567</td>\n",
       "      <td>2020</td>\n",
       "      <td>14.100998</td>\n",
       "    </tr>\n",
       "  </tbody>\n",
       "</table>\n",
       "</div>"
      ],
      "text/plain": [
       "      engine_displacement  horsepower  vehicle_weight  model_year  \\\n",
       "483                   220       144.0     2535.887591        2009   \n",
       "7506                  160       141.0     2741.170484        2019   \n",
       "8795                  230       155.0     2471.880237        2017   \n",
       "1688                  150       206.0     3748.164469        2015   \n",
       "6217                  300       111.0     2135.716359        2006   \n",
       "4562                  180       120.0     3551.398040        2013   \n",
       "5885                  210       118.0     3620.351977        2018   \n",
       "3746                  150       152.0     2524.407794        2012   \n",
       "7109                  160       151.0     2752.964230        2009   \n",
       "2698                  250       147.0     3202.856567        2020   \n",
       "\n",
       "      fuel_efficiency_mpg  \n",
       "483             16.642943  \n",
       "7506            16.298377  \n",
       "8795            18.591822  \n",
       "1688            11.818843  \n",
       "6217            19.402209  \n",
       "4562            12.145734  \n",
       "5885            11.378399  \n",
       "3746            16.667294  \n",
       "7109            15.819367  \n",
       "2698            14.100998  "
      ]
     },
     "execution_count": 10,
     "metadata": {},
     "output_type": "execute_result"
    }
   ],
   "source": [
    "df_base.iloc[idx[:10]]"
   ]
  },
  {
   "cell_type": "code",
   "execution_count": 11,
   "id": "2d3ae408-7cfe-4b9c-b9b7-af3a61566418",
   "metadata": {},
   "outputs": [],
   "source": [
    "df_base_train = df_base.iloc[idx[:n_train]]\n",
    "df_base_test = df_base.iloc[idx[n_train:n_train+n_test]] \n",
    "df_base_val = df_base.iloc[idx[n_train+n_test:]]"
   ]
  },
  {
   "cell_type": "code",
   "execution_count": 12,
   "id": "f80da38e-1b59-475e-9921-375aa8bafdca",
   "metadata": {},
   "outputs": [],
   "source": [
    "df_base_train = df_base_train.reset_index(drop=True)\n",
    "df_base_test = df_base_test.reset_index(drop=True)\n",
    "df_base_val = df_base_val.reset_index(drop=True)"
   ]
  },
  {
   "cell_type": "code",
   "execution_count": null,
   "id": "f1c127d6-eb64-4ad3-9d8c-87ce7813ef68",
   "metadata": {},
   "outputs": [],
   "source": []
  },
  {
   "cell_type": "code",
   "execution_count": 13,
   "id": "b1393eff-475e-4f57-911f-f94007751dfc",
   "metadata": {},
   "outputs": [],
   "source": [
    "# No need to take the logarithm since we have a normal distribution and not a long tail distribution\n",
    "\n",
    "y_train = np.log1p(df_base_train.fuel_efficiency_mpg.values)\n",
    "y_test = np.log1p(df_base_test.fuel_efficiency_mpg.values)\n",
    "y_val = np.log1p(df_base_val.fuel_efficiency_mpg.values)\n"
   ]
  },
  {
   "cell_type": "code",
   "execution_count": 14,
   "id": "91fcf4cf-cfbd-409d-bc69-f6a3e705c0ae",
   "metadata": {
    "scrolled": true
   },
   "outputs": [],
   "source": [
    "del df_base_train['fuel_efficiency_mpg']\n",
    "del df_base_test['fuel_efficiency_mpg']\n",
    "del df_base_val['fuel_efficiency_mpg']"
   ]
  },
  {
   "cell_type": "code",
   "execution_count": 15,
   "id": "ad511ad3-2dde-46e5-b627-f09128105d5b",
   "metadata": {},
   "outputs": [],
   "source": [
    "def prepare_X(df, empty_val_replacement=0):\n",
    "    df = df.copy()\n",
    "    df.horsepower = df.horsepower.fillna(empty_val_replacement)\n",
    "    X = df.values\n",
    "    return X"
   ]
  },
  {
   "cell_type": "code",
   "execution_count": 16,
   "id": "6285e577-545a-4e21-8391-33ac4ffcc009",
   "metadata": {},
   "outputs": [],
   "source": [
    "def train_linear_regression(X, y):\n",
    "    ones = np.ones(X.shape[0])\n",
    "    X = np.column_stack([ones, X])\n",
    "\n",
    "    XTX = X.T.dot(X)\n",
    "    XTX_inv = np.linalg.inv(XTX)\n",
    "    w_full = XTX_inv.dot(X.T).dot(y)\n",
    "\n",
    "    return w_full[0], w_full[1:]\n",
    "    pass"
   ]
  },
  {
   "cell_type": "code",
   "execution_count": 17,
   "id": "7b64d9eb-ed11-43ec-bfd4-6133dcedfab8",
   "metadata": {},
   "outputs": [],
   "source": [
    "def rmse(y, y_pred):\n",
    "    error = y - y_pred\n",
    "    se = error ** 2\n",
    "    mse = se.mean()\n",
    "    return np.sqrt(mse)"
   ]
  },
  {
   "cell_type": "code",
   "execution_count": 18,
   "id": "e3805331-b8ca-4724-9175-4e01a48d9334",
   "metadata": {},
   "outputs": [],
   "source": [
    "def train_linear_regression_reg(X, y, r=0.001):\n",
    "    ones = np.ones(X.shape[0])\n",
    "    X = np.column_stack([ones, X])\n",
    "    \n",
    "    XTX = X.T.dot(X)\n",
    "    XTX = XTX + r * np.eye(XTX.shape[0])\n",
    "    \n",
    "    XTX_inv = np.linalg.inv(XTX)\n",
    "    w_full = XTX_inv.dot(X.T).dot(y)\n",
    "\n",
    "    return w_full[0], w_full[1:]\n",
    "    pass"
   ]
  },
  {
   "cell_type": "code",
   "execution_count": 19,
   "id": "13861777-b20d-4380-8d52-8abad8c48559",
   "metadata": {},
   "outputs": [
    {
     "data": {
      "text/plain": [
       "np.float64(0.04)"
      ]
     },
     "execution_count": 19,
     "metadata": {},
     "output_type": "execute_result"
    }
   ],
   "source": [
    "# Option 1 (replace the empty value with 0)\n",
    "\n",
    "X_train = prepare_X(df_base_train)\n",
    "w0, w = train_linear_regression(X_train, y_train)\n",
    "\n",
    "X_val = prepare_X(df_base_val)\n",
    "y_pred = w0 + X_val.dot(w)\n",
    "\n",
    "\n",
    "score = rmse(y_val, y_pred)\n",
    "score = round(score, 2)\n",
    "score"
   ]
  },
  {
   "cell_type": "code",
   "execution_count": 20,
   "id": "a8504c36-d417-45a0-9a02-6bf7f09bcddd",
   "metadata": {},
   "outputs": [
    {
     "data": {
      "text/plain": [
       "np.float64(14.72072572392224)"
      ]
     },
     "execution_count": 20,
     "metadata": {},
     "output_type": "execute_result"
    }
   ],
   "source": [
    "car = df_base_test.iloc[60].to_dict()\n",
    "car\n",
    "\n",
    "df_small = pd.DataFrame([car])\n",
    "\n",
    "X_small = prepare_X(df_small)\n",
    "y_pred = w0 + X_small.dot(w)\n",
    "\n",
    "y_pred = y_pred[0]\n",
    "\n",
    "np.expm1(y_pred)"
   ]
  },
  {
   "cell_type": "code",
   "execution_count": 21,
   "id": "98f262a1-2fbf-4590-9ab5-90fc81cc1898",
   "metadata": {},
   "outputs": [
    {
     "data": {
      "text/plain": [
       "np.float64(15.279495092594727)"
      ]
     },
     "execution_count": 21,
     "metadata": {},
     "output_type": "execute_result"
    }
   ],
   "source": [
    "np.expm1(y_test[60])"
   ]
  },
  {
   "cell_type": "code",
   "execution_count": 22,
   "id": "e0ee29da-d6a3-44a2-a511-8043a1981aca",
   "metadata": {},
   "outputs": [
    {
     "data": {
      "text/plain": [
       "np.float64(0.04)"
      ]
     },
     "execution_count": 22,
     "metadata": {},
     "output_type": "execute_result"
    }
   ],
   "source": [
    "# Option 2 (replace the empty value with mean)\n",
    "\n",
    "mean_hp = df_base_train.horsepower.mean()\n",
    "\n",
    "X_train = prepare_X(df_base_train, mean_hp)\n",
    "w0, w = train_linear_regression(X_train, y_train)\n",
    "\n",
    "X_val = prepare_X(df_base_val)\n",
    "y_pred = w0 + X_val.dot(w)\n",
    "\n",
    "score = rmse(y_val, y_pred)\n",
    "score = round(score, 2)\n",
    "score"
   ]
  },
  {
   "cell_type": "code",
   "execution_count": 23,
   "id": "e6d6e644-f3e1-4372-b7ba-3bd123dfe382",
   "metadata": {},
   "outputs": [
    {
     "name": "stdout",
     "output_type": "stream",
     "text": [
      "0 3.6646662472218297 0.037851962767782146\n",
      "0.01 3.1688134470074534 0.03788071228961772\n",
      "0.1 1.4288369989383432 0.03852964389623198\n",
      "1 0.22012861946726972 0.039463991684721686\n",
      "5 0.04624885656570121 0.03962930595279233\n",
      "10 0.023271722731248758 0.039651714533160236\n",
      "100 0.0023413689852701753 0.03967223909895921\n"
     ]
    }
   ],
   "source": [
    "# Q4\n",
    "# Tuning the model\n",
    "\n",
    "for r in [0, 0.01, 0.1, 1, 5, 10, 100]:\n",
    "    \n",
    "    X_train = prepare_X(df_base_train)\n",
    "    w0, w = train_linear_regression_reg(X_train, y_train, r=r)\n",
    "    \n",
    "    X_val = prepare_X(df_base_val)\n",
    "    y_pred = w0 + X_val.dot(w)\n",
    "    \n",
    "    score = rmse(y_val, y_pred)\n",
    "\n",
    "    print(r, w0, score)"
   ]
  },
  {
   "cell_type": "code",
   "execution_count": 24,
   "id": "8354e057-1796-4932-9b40-3543db3b3f33",
   "metadata": {},
   "outputs": [],
   "source": [
    "def perform_regression_with_different_seed(df, seed_list):\n",
    "    df = df.copy()\n",
    "    \n",
    "    n = len(df)\n",
    "    n_test = int(n * 0.2)\n",
    "    n_val = int(n * 0.2)\n",
    "    n_train = n - (n_test + n_val)\n",
    "\n",
    "    score_list = []\n",
    "    \n",
    "    for seed in seed_list:\n",
    "        idx = np.arange(n)\n",
    "        np.random.seed(seed)\n",
    "        np.random.shuffle(idx)\n",
    "\n",
    "        df_train = df.iloc[idx[:n_train]]\n",
    "        df_test = df.iloc[idx[n_train:n_train+n_test]] \n",
    "        df_val = df.iloc[idx[n_train+n_test:]]\n",
    "        \n",
    "        df_train = df_train.reset_index(drop=True)\n",
    "        df_test = df_test.reset_index(drop=True)\n",
    "        df_val = df_val.reset_index(drop=True)\n",
    "    \n",
    "        y_train = df_train.fuel_efficiency_mpg.values\n",
    "        y_test = df_test.fuel_efficiency_mpg.values\n",
    "        y_val = df_val.fuel_efficiency_mpg.values\n",
    "    \n",
    "        del df_train['fuel_efficiency_mpg']\n",
    "        del df_test['fuel_efficiency_mpg']\n",
    "        del df_val['fuel_efficiency_mpg']\n",
    "    \n",
    "        X_train = prepare_X(df_train)\n",
    "        w0, w = train_linear_regression(X_train, y_train)\n",
    "    \n",
    "        X_val = prepare_X(df_val)\n",
    "        y_pred = w0 + X_val.dot(w)\n",
    "    \n",
    "        score = rmse(y_val, y_pred)\n",
    "        score = round(score, 2)\n",
    "        score_list.append(score.item())\n",
    "\n",
    "    return score_list\n",
    "    "
   ]
  },
  {
   "cell_type": "code",
   "execution_count": 25,
   "id": "5a0ecb19-446a-4cc8-835b-acdd4532a39d",
   "metadata": {},
   "outputs": [],
   "source": [
    "score_list = perform_regression_with_different_seed(df_base, [0, 1, 2, 3, 4, 5, 6, 7, 8, 9])"
   ]
  },
  {
   "cell_type": "code",
   "execution_count": 26,
   "id": "8f9bf973-60f8-488d-932b-a06c44f41972",
   "metadata": {},
   "outputs": [
    {
     "data": {
      "text/plain": [
       "np.float64(0.008)"
      ]
     },
     "execution_count": 26,
     "metadata": {},
     "output_type": "execute_result"
    }
   ],
   "source": [
    "std_score_list = np.std(score_list)\n",
    "round(std_score_list, 3)"
   ]
  },
  {
   "cell_type": "code",
   "execution_count": 27,
   "id": "f2e2d419-90be-4310-b6dc-f79bebb8478e",
   "metadata": {},
   "outputs": [],
   "source": [
    "def perform_regression_with_reg_with_different_seed(df, seed_list, reg=0.01):\n",
    "    df = df.copy()\n",
    "    \n",
    "    n = len(df)\n",
    "    n_test = int(n * 0.2)\n",
    "    n_val = int(n * 0.2)\n",
    "    n_train = n - (n_test + n_val)\n",
    "\n",
    "    score_list = []\n",
    "    \n",
    "    for seed in seed_list:\n",
    "        idx = np.arange(n)\n",
    "        np.random.seed(seed)\n",
    "        np.random.shuffle(idx)\n",
    "\n",
    "        df_train = df.iloc[idx[:n_train]]\n",
    "        df_test = df.iloc[idx[n_train:n_train+n_test]] \n",
    "        df_val = df.iloc[idx[n_train+n_test:]]\n",
    "        \n",
    "        df_train = df_train.reset_index(drop=True)\n",
    "        df_test = df_test.reset_index(drop=True)\n",
    "        df_val = df_val.reset_index(drop=True)\n",
    "    \n",
    "        y_train = df_train.fuel_efficiency_mpg.values\n",
    "        y_test = df_test.fuel_efficiency_mpg.values\n",
    "        y_val = df_val.fuel_efficiency_mpg.values\n",
    "    \n",
    "        del df_train['fuel_efficiency_mpg']\n",
    "        del df_test['fuel_efficiency_mpg']\n",
    "        del df_val['fuel_efficiency_mpg']\n",
    "    \n",
    "        X_train = prepare_X(df_train)\n",
    "        w0, w = train_linear_regression_reg(X_train, y_train, reg)\n",
    "    \n",
    "        X_val = prepare_X(df_val)\n",
    "        y_pred = w0 + X_val.dot(w)\n",
    "    \n",
    "        score = rmse(y_val, y_pred)\n",
    "        score = round(score, 2)\n",
    "        score_list.append(score.item())\n",
    "\n",
    "    return score_list\n",
    "    "
   ]
  },
  {
   "cell_type": "code",
   "execution_count": 28,
   "id": "f6510de9-ace0-4a4d-af40-42a63539dba5",
   "metadata": {},
   "outputs": [
    {
     "data": {
      "text/plain": [
       "[0.52]"
      ]
     },
     "execution_count": 28,
     "metadata": {},
     "output_type": "execute_result"
    }
   ],
   "source": [
    "score_list = perform_regression_with_reg_with_different_seed(df_base, [9], 0.001)\n",
    "score_list"
   ]
  },
  {
   "cell_type": "code",
   "execution_count": 29,
   "id": "512674e8-dfd8-41a1-a226-fd08248d01e1",
   "metadata": {},
   "outputs": [
    {
     "data": {
      "text/plain": [
       "[0.52]"
      ]
     },
     "execution_count": 29,
     "metadata": {},
     "output_type": "execute_result"
    }
   ],
   "source": [
    "score_list = perform_regression_with_reg_with_different_seed(df_base, [9])\n",
    "score_list"
   ]
  }
 ],
 "metadata": {
  "kernelspec": {
   "display_name": "Python 3 (ipykernel)",
   "language": "python",
   "name": "python3"
  },
  "language_info": {
   "codemirror_mode": {
    "name": "ipython",
    "version": 3
   },
   "file_extension": ".py",
   "mimetype": "text/x-python",
   "name": "python",
   "nbconvert_exporter": "python",
   "pygments_lexer": "ipython3",
   "version": "3.13.7"
  }
 },
 "nbformat": 4,
 "nbformat_minor": 5
}
