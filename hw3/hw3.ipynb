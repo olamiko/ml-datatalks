{
 "cells": [
  {
   "cell_type": "code",
   "execution_count": 6,
   "id": "e41aa383-4ee6-4c3f-aa6d-a1e8f6c8f833",
   "metadata": {},
   "outputs": [],
   "source": [
    "import pandas as pd\n",
    "import numpy as np\n",
    "\n",
    "import matplotlib.pyplot as plt"
   ]
  },
  {
   "cell_type": "code",
   "execution_count": 7,
   "id": "5fad86de-cf3a-466d-bcb0-e21f3ef1c1cb",
   "metadata": {},
   "outputs": [],
   "source": [
    "data = 'https://raw.githubusercontent.com/alexeygrigorev/datasets/master/course_lead_scoring.csv'"
   ]
  },
  {
   "cell_type": "code",
   "execution_count": 8,
   "id": "4bd57903-18c1-413a-81f8-03988f0aafd9",
   "metadata": {},
   "outputs": [
    {
     "name": "stdout",
     "output_type": "stream",
     "text": [
      "--2025-10-14 01:37:57--  https://raw.githubusercontent.com/alexeygrigorev/datasets/master/course_lead_scoring.csv\n",
      "Resolving raw.githubusercontent.com (raw.githubusercontent.com)... 185.199.108.133, 185.199.109.133, 185.199.110.133, ...\n",
      "Connecting to raw.githubusercontent.com (raw.githubusercontent.com)|185.199.108.133|:443... connected.\n",
      "HTTP request sent, awaiting response... 200 OK\n",
      "Length: 80876 (79K) [text/plain]\n",
      "Saving to: ‘course_lead_scoring.csv’\n",
      "\n",
      "course_lead_scoring 100%[===================>]  78.98K  --.-KB/s    in 0.03s   \n",
      "\n",
      "2025-10-14 01:37:58 (2.76 MB/s) - ‘course_lead_scoring.csv’ saved [80876/80876]\n",
      "\n"
     ]
    }
   ],
   "source": [
    "!wget $data -O course_lead_scoring.csv"
   ]
  },
  {
   "cell_type": "code",
   "execution_count": 9,
   "id": "bdad2d16-cf50-442f-baa4-5dff03411fa4",
   "metadata": {},
   "outputs": [],
   "source": [
    "df = pd.read_csv('course_lead_scoring.csv')"
   ]
  },
  {
   "cell_type": "code",
   "execution_count": 10,
   "id": "335e0d7c-f8f0-4fb8-9956-ada8fcde4ea4",
   "metadata": {},
   "outputs": [
    {
     "data": {
      "text/plain": [
       "lead_source                  object\n",
       "industry                     object\n",
       "number_of_courses_viewed      int64\n",
       "annual_income               float64\n",
       "employment_status            object\n",
       "location                     object\n",
       "interaction_count             int64\n",
       "lead_score                  float64\n",
       "converted                     int64\n",
       "dtype: object"
      ]
     },
     "execution_count": 10,
     "metadata": {},
     "output_type": "execute_result"
    }
   ],
   "source": [
    "df.dtypes"
   ]
  },
  {
   "cell_type": "code",
   "execution_count": 11,
   "id": "0ba25d4b-676d-415d-a623-b811fbd15a0d",
   "metadata": {},
   "outputs": [
    {
     "data": {
      "text/plain": [
       "lead_source                 128\n",
       "industry                    134\n",
       "number_of_courses_viewed      0\n",
       "annual_income               181\n",
       "employment_status           100\n",
       "location                     63\n",
       "interaction_count             0\n",
       "lead_score                    0\n",
       "converted                     0\n",
       "dtype: int64"
      ]
     },
     "execution_count": 11,
     "metadata": {},
     "output_type": "execute_result"
    }
   ],
   "source": [
    "df.isnull().sum()"
   ]
  },
  {
   "cell_type": "code",
   "execution_count": 12,
   "id": "61068554-6415-4d68-8daa-dcfa39d82022",
   "metadata": {},
   "outputs": [],
   "source": [
    "categorical = list(df.dtypes[df.dtypes == 'object'].index)\n",
    "numerical = ['annual_income', 'interaction_count', 'lead_score', 'number_of_courses_viewed']"
   ]
  },
  {
   "cell_type": "code",
   "execution_count": 13,
   "id": "edf69ffd-b4f6-4e42-9ee2-d3168bd16c03",
   "metadata": {},
   "outputs": [
    {
     "data": {
      "text/plain": [
       "lead_source                 0\n",
       "industry                    0\n",
       "number_of_courses_viewed    0\n",
       "annual_income               0\n",
       "employment_status           0\n",
       "location                    0\n",
       "interaction_count           0\n",
       "lead_score                  0\n",
       "converted                   0\n",
       "dtype: int64"
      ]
     },
     "execution_count": 13,
     "metadata": {},
     "output_type": "execute_result"
    }
   ],
   "source": [
    "for col in df.columns:\n",
    "    if col == 'converted':\n",
    "        continue\n",
    "    if df[col].dtype == 'object':\n",
    "        df[col] = df[col].fillna('NA')\n",
    "    else:\n",
    "        df[col] = df[col].fillna(0.0)\n",
    "\n",
    "df.isnull().sum()"
   ]
  },
  {
   "cell_type": "code",
   "execution_count": 14,
   "id": "08e5573f-6563-4358-a4da-73f7670053f5",
   "metadata": {},
   "outputs": [
    {
     "data": {
      "text/plain": [
       "'retail'"
      ]
     },
     "execution_count": 14,
     "metadata": {},
     "output_type": "execute_result"
    }
   ],
   "source": [
    "#Q1\n",
    "\n",
    "df.industry.mode()[0]"
   ]
  },
  {
   "cell_type": "code",
   "execution_count": 15,
   "id": "2c0fa14b-476d-40f9-a71b-327c294ce3b8",
   "metadata": {},
   "outputs": [
    {
     "data": {
      "text/plain": [
       "annual_income               0.053131\n",
       "interaction_count           0.374573\n",
       "lead_score                  0.193673\n",
       "number_of_courses_viewed    0.435914\n",
       "dtype: float64"
      ]
     },
     "execution_count": 15,
     "metadata": {},
     "output_type": "execute_result"
    }
   ],
   "source": [
    "# Q2\n",
    "df[numerical].corrwith(df.converted)"
   ]
  },
  {
   "cell_type": "code",
   "execution_count": 16,
   "id": "ddf42ba5-c9ed-4e04-a43c-31257bdea62a",
   "metadata": {},
   "outputs": [],
   "source": [
    "from sklearn.model_selection import train_test_split"
   ]
  },
  {
   "cell_type": "code",
   "execution_count": 17,
   "id": "f058ba6f-b14c-42b5-8d4e-c38df414377c",
   "metadata": {},
   "outputs": [
    {
     "data": {
      "text/plain": [
       "(876, 293, 293)"
      ]
     },
     "execution_count": 17,
     "metadata": {},
     "output_type": "execute_result"
    }
   ],
   "source": [
    "df_full_train, df_test = train_test_split(df, test_size=0.2, random_state=42)\n",
    "df_train, df_val = train_test_split(df_full_train, test_size=0.25, random_state=42)\n",
    "\n",
    "len(df_train), len(df_val), len(df_test)"
   ]
  },
  {
   "cell_type": "code",
   "execution_count": 18,
   "id": "c71ec901-2433-4452-af04-0c29c4e5cccb",
   "metadata": {},
   "outputs": [],
   "source": [
    "y_train = df_train.converted.values\n",
    "y_test = df_test.converted.values\n",
    "y_val = df_val.converted.values"
   ]
  },
  {
   "cell_type": "code",
   "execution_count": 19,
   "id": "f3183f04-e7be-4f41-b1fb-1567ad3f065d",
   "metadata": {},
   "outputs": [],
   "source": [
    "del df_train['converted']\n",
    "del df_test['converted']\n",
    "del df_val['converted']"
   ]
  },
  {
   "cell_type": "code",
   "execution_count": 20,
   "id": "40ed4c35-fb08-49f5-8c70-d10db82c98a7",
   "metadata": {},
   "outputs": [],
   "source": [
    "df_train = df_train.reset_index(drop=True)\n",
    "df_test = df_test.reset_index(drop=True)\n",
    "df_val = df_val.reset_index(drop=True)"
   ]
  },
  {
   "cell_type": "code",
   "execution_count": 21,
   "id": "2bea0d79-9280-4799-bd59-6c7bb8439d6f",
   "metadata": {},
   "outputs": [],
   "source": [
    "# Q3\n",
    "\n",
    "from sklearn.metrics import mutual_info_score\n",
    "\n",
    "def mutual_info_converted_score(series):\n",
    "    return mutual_info_score(df_full_train.converted, series)"
   ]
  },
  {
   "cell_type": "code",
   "execution_count": 22,
   "id": "72f03973-dbd0-48ef-8b15-1acd1fe8afab",
   "metadata": {},
   "outputs": [
    {
     "data": {
      "text/plain": [
       "lead_source          0.03\n",
       "employment_status    0.01\n",
       "industry             0.01\n",
       "location             0.00\n",
       "dtype: float64"
      ]
     },
     "execution_count": 22,
     "metadata": {},
     "output_type": "execute_result"
    }
   ],
   "source": [
    "mi = df_full_train[categorical].apply(mutual_info_converted_score)\n",
    "mi.sort_values(ascending=False).round(2)"
   ]
  },
  {
   "cell_type": "code",
   "execution_count": 42,
   "id": "6dced178-4b8d-457a-a035-7587a194c544",
   "metadata": {},
   "outputs": [],
   "source": [
    "# Q4 \n",
    "from sklearn.feature_extraction import DictVectorizer\n",
    "from sklearn.linear_model import LogisticRegression\n",
    "\n",
    "def train_and_test_logistic_regression(df_train, y_train, df_val, y_val):\n",
    "    train_dicts = df_train.to_dict(orient='records')\n",
    "    \n",
    "    dv = DictVectorizer(sparse=False)\n",
    "    dv.fit(train_dicts)\n",
    "    \n",
    "    X_train = dv.transform(train_dicts)\n",
    "    \n",
    "    val_dicts = df_val.to_dict(orient='records')\n",
    "    X_val = dv.transform(val_dicts)\n",
    "    \n",
    "    model = LogisticRegression(solver='liblinear', C=1.0, max_iter=1000, random_state=42)\n",
    "    model.fit(X_train, y_train)\n",
    "    \n",
    "    y_pred = model.predict_proba(X_val)[:, 1]\n",
    "    converted_decision = (y_pred >= 0.5)\n",
    "    \n",
    "    return (y_val == converted_decision).mean()"
   ]
  },
  {
   "cell_type": "code",
   "execution_count": 53,
   "id": "08f1716d-ef40-4ff1-a063-b18d36bd48d5",
   "metadata": {},
   "outputs": [
    {
     "data": {
      "text/plain": [
       "np.float64(0.6996587030716723)"
      ]
     },
     "execution_count": 53,
     "metadata": {},
     "output_type": "execute_result"
    }
   ],
   "source": [
    "init_accuracy = train_and_test_logistic_regression(df_train, y_train, df_val, y_val)\n",
    "init_accuracy"
   ]
  },
  {
   "cell_type": "code",
   "execution_count": 54,
   "id": "b07afa6e-a281-43c9-b3ba-c8fe28964efe",
   "metadata": {},
   "outputs": [
    {
     "data": {
      "text/plain": [
       "np.float64(0.7)"
      ]
     },
     "execution_count": 54,
     "metadata": {},
     "output_type": "execute_result"
    }
   ],
   "source": [
    "round(train_and_test_logistic_regression(df_train, y_train, df_val, y_val), 2)"
   ]
  },
  {
   "cell_type": "code",
   "execution_count": null,
   "id": "547c3551-fb38-4fab-8fd6-964a42ed8e65",
   "metadata": {},
   "outputs": [],
   "source": [
    "# Q5\n",
    "\n",
    "def feature_elimination(df_train, y_train, df_val, y_val):\n",
    "    columns = df_train.columns\n",
    "    result_when_col_excluded = {}\n",
    "\n",
    "    for col in columns:\n",
    "        df_train_ex = df_train.loc[:, df_train.columns != col]\n",
    "        df_val_ex = df_val.loc[:, df_val.columns != col]\n",
    "        result_when_col_excluded[col] = train_and_test_logistic_regression(df_train_ex, y_train, df_val_ex, y_val)\n",
    "\n",
    "    return result_when_col_excluded\n",
    "    \n",
    "result = feature_elimination(df_train, y_train, df_val, y_val)\n",
    "result"
   ]
  },
  {
   "cell_type": "code",
   "execution_count": 58,
   "id": "3ad354ef-e411-4a69-8f14-d8c1000bf9b3",
   "metadata": {},
   "outputs": [
    {
     "data": {
      "text/html": [
       "<div>\n",
       "<style scoped>\n",
       "    .dataframe tbody tr th:only-of-type {\n",
       "        vertical-align: middle;\n",
       "    }\n",
       "\n",
       "    .dataframe tbody tr th {\n",
       "        vertical-align: top;\n",
       "    }\n",
       "\n",
       "    .dataframe thead th {\n",
       "        text-align: right;\n",
       "    }\n",
       "</style>\n",
       "<table border=\"1\" class=\"dataframe\">\n",
       "  <thead>\n",
       "    <tr style=\"text-align: right;\">\n",
       "      <th></th>\n",
       "      <th>0</th>\n",
       "      <th>diff</th>\n",
       "    </tr>\n",
       "  </thead>\n",
       "  <tbody>\n",
       "    <tr>\n",
       "      <th>lead_source</th>\n",
       "      <td>0.703072</td>\n",
       "      <td>-0.003413</td>\n",
       "    </tr>\n",
       "    <tr>\n",
       "      <th>industry</th>\n",
       "      <td>0.699659</td>\n",
       "      <td>0.000000</td>\n",
       "    </tr>\n",
       "    <tr>\n",
       "      <th>number_of_courses_viewed</th>\n",
       "      <td>0.556314</td>\n",
       "      <td>0.143345</td>\n",
       "    </tr>\n",
       "    <tr>\n",
       "      <th>annual_income</th>\n",
       "      <td>0.853242</td>\n",
       "      <td>-0.153584</td>\n",
       "    </tr>\n",
       "    <tr>\n",
       "      <th>employment_status</th>\n",
       "      <td>0.696246</td>\n",
       "      <td>0.003413</td>\n",
       "    </tr>\n",
       "    <tr>\n",
       "      <th>location</th>\n",
       "      <td>0.709898</td>\n",
       "      <td>-0.010239</td>\n",
       "    </tr>\n",
       "    <tr>\n",
       "      <th>interaction_count</th>\n",
       "      <td>0.556314</td>\n",
       "      <td>0.143345</td>\n",
       "    </tr>\n",
       "    <tr>\n",
       "      <th>lead_score</th>\n",
       "      <td>0.706485</td>\n",
       "      <td>-0.006826</td>\n",
       "    </tr>\n",
       "  </tbody>\n",
       "</table>\n",
       "</div>"
      ],
      "text/plain": [
       "                                 0      diff\n",
       "lead_source               0.703072 -0.003413\n",
       "industry                  0.699659  0.000000\n",
       "number_of_courses_viewed  0.556314  0.143345\n",
       "annual_income             0.853242 -0.153584\n",
       "employment_status         0.696246  0.003413\n",
       "location                  0.709898 -0.010239\n",
       "interaction_count         0.556314  0.143345\n",
       "lead_score                0.706485 -0.006826"
      ]
     },
     "execution_count": 58,
     "metadata": {},
     "output_type": "execute_result"
    }
   ],
   "source": [
    "result_df = pd.DataFrame.from_dict(result, orient='index')\n",
    "result_df['diff'] = init_accuracy - result_df[0] \n",
    "result_df"
   ]
  },
  {
   "cell_type": "code",
   "execution_count": 153,
   "id": "4b06afb6-b84d-4adc-a1fd-e87bb9d9f907",
   "metadata": {},
   "outputs": [],
   "source": [
    "# Q6 \n",
    "\n",
    "def train_log_regression_reg(X, y, r=0.001):\n",
    "    ones = np.ones(X.shape[0])\n",
    "    X = np.column_stack([ones, X])\n",
    "    \n",
    "    XTX = X.T.dot(X)\n",
    "    XTX = XTX + r * np.eye(XTX.shape[0])\n",
    "    \n",
    "    XTX_inv = np.linalg.inv(XTX)\n",
    "    w_full = XTX_inv.dot(X.T).dot(y)\n",
    "\n",
    "    return w_full[0], w_full[1:]\n",
    "    pass\n",
    "\n",
    "\n",
    "def logistic_regression_reg(xi):\n",
    "    score = w0\n",
    "\n",
    "    # print(\"len xi\", len(xi))\n",
    "\n",
    "    for j in range(len(w)):\n",
    "        score = score + xi[j] * w[j]\n",
    "        # print(\"xi[j]\", xi[j])\n",
    "        # print(\"score\", score)\n",
    "    \n",
    "    result = sigmoid(score)\n",
    "    # print(result)\n",
    "    return result\n",
    "\n",
    "def sigmoid(z):\n",
    "    return 1 / (1+np.exp(-z))\n",
    "\n",
    "def rmse(y, y_pred):\n",
    "    error = y - y_pred\n",
    "    se = error ** 2\n",
    "    mse = se.mean()\n",
    "    return np.sqrt(mse)"
   ]
  },
  {
   "cell_type": "code",
   "execution_count": 214,
   "id": "9d72b1a7-bc4b-460e-a7bf-8cc80551f5bd",
   "metadata": {},
   "outputs": [],
   "source": [
    "def parameter_tuning(df_train, y_train, df_val, y_val,r):\n",
    "    \n",
    "    train_dicts = df_train.to_dict(orient='records')\n",
    "\n",
    "    dv = DictVectorizer(sparse=False)\n",
    "    dv.fit(train_dicts)\n",
    "    \n",
    "    X_train = dv.transform(train_dicts)\n",
    "    \n",
    "    w0, w = train_log_regression_reg(X_train, y_train, r=r)\n",
    "\n",
    "    print(w0)\n",
    "\n",
    "    val_dicts = df_val.to_dict(orient='records')\n",
    "    X_val = dv.transform(val_dicts)\n",
    "    \n",
    "    y_pred = []\n",
    "    \n",
    "    for i in range(len(X_val)):\n",
    "        y_pred.insert(i,logistic_regression_reg(X_val[i]))\n",
    "\n",
    "    conv_decision = (np.array(y_pred) >= 0.5).astype(int)\n",
    "\n",
    "    return (y_val == conv_decision).mean() "
   ]
  },
  {
   "cell_type": "code",
   "execution_count": 215,
   "id": "3b7f9443-334b-438a-892b-5dcf59ac3af8",
   "metadata": {
    "scrolled": true
   },
   "outputs": [
    {
     "name": "stdout",
     "output_type": "stream",
     "text": [
      "-0.10846618656489909\n",
      "C 0.01 -> 0.6040955631399317\n",
      "-0.10822496170747098\n",
      "C 0.1 -> 0.6040955631399317\n",
      "-0.10585793987829502\n",
      "C 1 -> 0.6040955631399317\n",
      "-0.08599412474602819\n",
      "C 10 -> 0.6040955631399317\n",
      "-0.01857417003049303\n",
      "C 100 -> 0.6040955631399317\n"
     ]
    }
   ],
   "source": [
    "for c in [0.01, 0.1, 1, 10, 100]:\n",
    "    print(\"C {} -> {}\".format(c, parameter_tuning(df_train, y_train, df_val, y_val, c)))"
   ]
  },
  {
   "cell_type": "code",
   "execution_count": null,
   "id": "f67101f5-c710-45c5-8cbe-d1f7a714b989",
   "metadata": {},
   "outputs": [],
   "source": []
  }
 ],
 "metadata": {
  "kernelspec": {
   "display_name": "Python 3 (ipykernel)",
   "language": "python",
   "name": "python3"
  },
  "language_info": {
   "codemirror_mode": {
    "name": "ipython",
    "version": 3
   },
   "file_extension": ".py",
   "mimetype": "text/x-python",
   "name": "python",
   "nbconvert_exporter": "python",
   "pygments_lexer": "ipython3",
   "version": "3.13.7"
  }
 },
 "nbformat": 4,
 "nbformat_minor": 5
}
